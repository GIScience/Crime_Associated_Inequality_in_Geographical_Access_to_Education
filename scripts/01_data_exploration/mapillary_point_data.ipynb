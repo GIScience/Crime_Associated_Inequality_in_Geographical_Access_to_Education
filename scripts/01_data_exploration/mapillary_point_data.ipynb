{
 "cells": [
  {
   "cell_type": "code",
   "execution_count": 10,
   "metadata": {},
   "outputs": [],
   "source": [
    "import mercantile, mapbox_vector_tile, requests, json\n",
    "from vt2geojson.tools import vt_bytes_to_geojson\n",
    "import os\n",
    "output_folder_path = os.path.join('..', '..','data','02_intermediate_output') "
   ]
  },
  {
   "cell_type": "code",
   "execution_count": null,
   "metadata": {},
   "outputs": [],
   "source": [
    "# enter your acccess token\n",
    "access_token = 'MLY|xxxxxxxxxxxxxxxxxxx'\n",
    "\n",
    "# define an empty geojson as output\n",
    "output= { \"type\": \"FeatureCollection\", \"features\": [] }"
   ]
  },
  {
   "cell_type": "code",
   "execution_count": 4,
   "metadata": {},
   "outputs": [],
   "source": [
    "# a bounding box in [east_lng,_south_lat,west_lng,north_lat] format\n",
    "# our bbox is whole of RDJ\n",
    "west, south, east, north = [-43.77359702712855,-23.21292529817678,-43.030218255454905,-22.676377767232317]\n",
    "tiles = list(mercantile.tiles(west, south, east, north, 14)) # zoom level 14\n",
    "\n",
    "# vector tile endpoints \n",
    "tile_points = 'mly_map_feature_point'\n",
    "tile_layer = \"point\"\n",
    "\n",
    "# values to filter from API\n",
    "filter_values = ['object--street-light', 'object--trash-can', 'object--cctv-camera']"
   ]
  },
  {
   "cell_type": "code",
   "execution_count": 5,
   "metadata": {},
   "outputs": [],
   "source": [
    "# loop through list of tiles \n",
    "for tile in tiles:\n",
    "    tile_url = 'https://tiles.mapillary.com/maps/vtp/{}/2/{}/{}/{}?access_token={}'.format(tile_points,tile.z,tile.x,tile.y,access_token)\n",
    "    response = requests.get(tile_url)\n",
    "    data = vt_bytes_to_geojson(response.content, tile.x, tile.y, tile.z,layer=tile_layer)\n",
    "\n",
    "    # filter for only features matching the values in filter list above\n",
    "    filtered_data = [feature for feature in data['features'] if feature['properties']['value'] in filter_values]\n",
    "\n",
    "    # check if features are inside bbox, and push to output geojson object if yes\n",
    "    for feature in filtered_data:\n",
    "      if feature['geometry']['type'] == 'Point':\n",
    "        output['features'].append(feature)\n",
    "\n"
   ]
  },
  {
   "cell_type": "code",
   "execution_count": 11,
   "metadata": {},
   "outputs": [],
   "source": [
    "# save as geojson\n",
    "output_filepath = os.path.join(output_folder_path, 'mapillary_points.geojson')\n",
    "with open(output_filepath, 'w') as f:\n",
    "    json.dump(output, f)"
   ]
  }
 ],
 "metadata": {
  "kernelspec": {
   "display_name": "clip",
   "language": "python",
   "name": "python3"
  },
  "language_info": {
   "codemirror_mode": {
    "name": "ipython",
    "version": 3
   },
   "file_extension": ".py",
   "mimetype": "text/x-python",
   "name": "python",
   "nbconvert_exporter": "python",
   "pygments_lexer": "ipython3",
   "version": "3.8.18"
  }
 },
 "nbformat": 4,
 "nbformat_minor": 2
}
